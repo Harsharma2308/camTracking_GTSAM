{
 "cells": [
  {
   "cell_type": "code",
   "execution_count": 67,
   "metadata": {},
   "outputs": [],
   "source": [
    "import pandas as pd\n",
    "from glob import glob\n",
    "import cv2"
   ]
  },
  {
   "cell_type": "code",
   "execution_count": 80,
   "metadata": {},
   "outputs": [],
   "source": [
    "def create_merged_df():\n",
    "    orb_pose_df = pd.read_csv('../data/orb_poses.csv')\n",
    "    orb_pose_df = orb_pose_df.drop(columns=['rosbagTimestamp','Unnamed: 1', 'Unnamed: 2', 'seq','Unnamed: 8', 'transform','Unnamed: 13'])\n",
    "    orb_pose_df = orb_pose_df[orb_pose_df['child_frame_id']=='\"camera_link\"']\n",
    "    kitti_images_df_short = pd.read_csv('../data/kitti_images_nodata.csv')\n",
    "    merged_df = pd.merge(orb_pose_df,kitti_images_df_short,on=['nsecs','secs'])\n",
    "    merged_df.to_csv('../data/kitti_data_orb_poses.csv')"
   ]
  },
  {
   "cell_type": "code",
   "execution_count": 81,
   "metadata": {},
   "outputs": [],
   "source": [
    "def process_original_kitti_df():\n",
    "    kitti_images_df = pd.read_csv('../data/kitti_images.csv')\n",
    "    images_path = '../data/images/*.jpg'\n",
    "    images_files = glob(images_path)\n",
    "    images_files.sort()\n",
    "    kitti_images_df_short = kitti_images_df.drop(columns=['rosbagTimestamp','data','encoding','height','width','is_bigendian','step','header','seq','stamp'])\n",
    "    kitti_images_df_short['files']=images_files\n",
    "    kitti_images_df_short.to_csv('../data/kitti_images_nodata.csv')"
   ]
  },
  {
   "cell_type": "code",
   "execution_count": 98,
   "metadata": {},
   "outputs": [],
   "source": [
    "merged_df = pd.read_csv('../data/kitti_data_orb_poses.csv')"
   ]
  },
  {
   "cell_type": "code",
   "execution_count": 102,
   "metadata": {},
   "outputs": [],
   "source": [
    "## Read data of the sequence from a loop\n",
    "for index, entry in merged_df.iterrows():\n",
    "    imagepath = entry['files']\n",
    "    image = cv2.imread(imagepath)\n",
    "    orb_pose = entry[['x','y','z','qx','qy','qz','qw']].values\n",
    "    t,q = orb_pose[:3],orb_pose[3:]\n",
    "    break"
   ]
  },
  {
   "cell_type": "code",
   "execution_count": 103,
   "metadata": {},
   "outputs": [
    {
     "data": {
      "text/plain": [
       "(array([3.31572039385, 0.08818988959239997, 0.031271226040500005],\n",
       "       dtype=object),\n",
       " array([-0.00184024934827, 0.00193336488229, 0.0208571921515,\n",
       "        0.99977890193], dtype=object),\n",
       " '../data/images/frame0059.jpg')"
      ]
     },
     "execution_count": 103,
     "metadata": {},
     "output_type": "execute_result"
    }
   ],
   "source": [
    "t,q,imagepath"
   ]
  },
  {
   "cell_type": "code",
   "execution_count": null,
   "metadata": {},
   "outputs": [],
   "source": []
  }
 ],
 "metadata": {
  "kernelspec": {
   "display_name": "Python [conda env:slam2] *",
   "language": "python",
   "name": "conda-env-slam2-py"
  },
  "language_info": {
   "codemirror_mode": {
    "name": "ipython",
    "version": 3
   },
   "file_extension": ".py",
   "mimetype": "text/x-python",
   "name": "python",
   "nbconvert_exporter": "python",
   "pygments_lexer": "ipython3",
   "version": "3.7.9"
  }
 },
 "nbformat": 4,
 "nbformat_minor": 4
}
