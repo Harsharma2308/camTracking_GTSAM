{
 "cells": [
  {
   "cell_type": "code",
   "execution_count": 5,
   "metadata": {},
   "outputs": [],
   "source": [
    "import gtsam\n",
    "import numpy as np"
   ]
  },
  {
   "cell_type": "code",
   "execution_count": 6,
   "metadata": {},
   "outputs": [],
   "source": [
    "graph = gtsam.NonlinearFactorGraph()"
   ]
  },
  {
   "cell_type": "code",
   "execution_count": 15,
   "metadata": {},
   "outputs": [],
   "source": [
    "# Add a prior on the first pose, setting it to the origin\n",
    "# A prior factor consists of a mean and a noise model (covariance matrix)\n",
    "ODOMETRY_NOISE = gtsam.noiseModel.Diagonal.Sigmas(np.array([0.1, 0.1, 0.1, 0.1, 0.1, 0.1]))\n",
    "PRIOR_NOISE = gtsam.noiseModel.Diagonal.Sigmas(np.array([0.3, 0.3, 0.1]))\n",
    "priorMean = gtsam.Pose3(r = gtsam.Rot3.Quaternion(1,0,0,0), t = np.array([0, 0, 0]))  # prior at origin"
   ]
  },
  {
   "cell_type": "code",
   "execution_count": 30,
   "metadata": {},
   "outputs": [],
   "source": [
    "pose_count = 1\n",
    "trajectory = [0,0,0,0]\n",
    "for i in range(len(trajectory)-1):\n",
    "    odometry = gtsam.Pose3(r = gtsam.Rot3.Quaternion(1,0,0,0), t = np.array([0,0,0]))\n",
    "    graph.add(gtsam.BetweenFactorPose3(i+1, i+2, odometry,ODOMETRY_NOISE))"
   ]
  },
  {
   "cell_type": "code",
   "execution_count": 28,
   "metadata": {},
   "outputs": [
    {
     "data": {
      "text/plain": [
       "\u001b[0;31mDocstring:\u001b[0m      <no docstring>\n",
       "\u001b[0;31mInit docstring:\u001b[0m\n",
       "__init__(*args, **kwargs)\n",
       "Overloaded function.\n",
       "\n",
       "1. __init__(self: gtsam.gtsam.Pose3) -> None\n",
       "\n",
       "2. __init__(self: gtsam.gtsam.Pose3, other: gtsam.gtsam.Pose3) -> None\n",
       "\n",
       "3. __init__(self: gtsam.gtsam.Pose3, r: gtsam.gtsam.Rot3, t: numpy.ndarray[numpy.float64[3, 1]]) -> None\n",
       "\n",
       "4. __init__(self: gtsam.gtsam.Pose3, pose2: gtsam.gtsam.Pose2) -> None\n",
       "\n",
       "5. __init__(self: gtsam.gtsam.Pose3, mat: numpy.ndarray[numpy.float64[m, n]]) -> None\n",
       "\u001b[0;31mFile:\u001b[0m           ~/anaconda3/envs/slam/lib/python3.7/site-packages/gtsam/gtsam.cpython-37m-x86_64-linux-gnu.so\n",
       "\u001b[0;31mType:\u001b[0m           pybind11_type\n",
       "\u001b[0;31mSubclasses:\u001b[0m     \n"
      ]
     },
     "metadata": {},
     "output_type": "display_data"
    }
   ],
   "source": [
    "?gtsam.Pose3"
   ]
  },
  {
   "cell_type": "code",
   "execution_count": 27,
   "metadata": {},
   "outputs": [
    {
     "name": "stdout",
     "output_type": "stream",
     "text": [
      "\n",
      "Factor Graph:\n",
      "size: 4\n",
      "\n",
      "Factor 0: PriorFactor on 1\n",
      "  prior mean: (0, 0, 0)\n",
      "  noise model: diagonal sigmas[0.3; 0.3; 0.1];\n",
      "\n",
      "Factor 1: BetweenFactor(1,2)\n",
      "  measured: (2, 0, 0)\n",
      "  noise model: diagonal sigmas[0.2; 0.2; 0.1];\n",
      "\n",
      "Factor 2: BetweenFactor(2,3)\n",
      "  measured: (2, 0, 0)\n",
      "  noise model: diagonal sigmas[0.2; 0.2; 0.1];\n",
      "\n",
      "Factor 3: BetweenFactor(3,4)\n",
      "  measured: (2, 0, 0)\n",
      "  noise model: diagonal sigmas[0.2; 0.2; 0.1];\n",
      "\n",
      "\n",
      "\n",
      "Initial Estimate:\n",
      "Values with 4 values:\n",
      "Value 1: (gtsam::Pose2)\n",
      "(0.5, 0, 0.2)\n",
      "\n",
      "Value 2: (gtsam::Pose2)\n",
      "(2.3, 0.1, -0.2)\n",
      "\n",
      "Value 3: (gtsam::Pose2)\n",
      "(4.1, 0.1, 0.1)\n",
      "\n",
      "Value 4: (gtsam::Pose2)\n",
      "(4.1, 0.1, 0.1)\n",
      "\n",
      "\n",
      "\n",
      "Final Result:\n",
      "Values with 4 values:\n",
      "Value 1: (gtsam::Pose2)\n",
      "(2.03156471e-15, 1.73822884e-15, 9.46930557e-16)\n",
      "\n",
      "Value 2: (gtsam::Pose2)\n",
      "(2, 4.18983527e-15, 1.51839165e-15)\n",
      "\n",
      "Value 3: (gtsam::Pose2)\n",
      "(4, 7.58745462e-15, 1.75897255e-15)\n",
      "\n",
      "Value 4: (gtsam::Pose2)\n",
      "(6, 1.10337199e-14, 1.77764512e-15)\n",
      "\n",
      "\n",
      "X1 covariance:\n",
      "[[ 9.00000000e-02 -2.55590933e-32 -1.84593452e-32]\n",
      " [-2.55590933e-32  9.00000000e-02  2.55795385e-17]\n",
      " [-1.84593452e-32  2.55795385e-17  1.00000000e-02]]\n",
      "\n",
      "X2 covariance:\n",
      "[[1.30000000e-01 1.17035372e-17 5.85176861e-18]\n",
      " [1.17035372e-17 1.70000000e-01 2.00000000e-02]\n",
      " [5.85176861e-18 2.00000000e-02 2.00000000e-02]]\n",
      "\n",
      "X3 covariance:\n",
      "[[1.70000000e-01 4.98730907e-17 1.30699013e-17]\n",
      " [4.98730907e-17 3.70000000e-01 6.00000000e-02]\n",
      " [1.30699013e-17 6.00000000e-02 3.00000000e-02]]\n",
      "\n",
      "X4 covariance:\n",
      "[[2.10000000e-01 9.50711167e-17 1.74610057e-17]\n",
      " [9.50711167e-17 7.70000000e-01 1.20000000e-01]\n",
      " [1.74610057e-17 1.20000000e-01 4.00000000e-02]]\n",
      "\n"
     ]
    },
    {
     "data": {
      "image/png": "[encoded data removed]",
      "text/plain": [
       "<Figure size 432x288 with 1 Axes>"
      ]
     },
     "metadata": {
      "needs_background": "light"
     },
     "output_type": "display_data"
    }
   ],
   "source": [
    "\"\"\"\n",
    "GTSAM Copyright 2010-2018, Georgia Tech Research Corporation,\n",
    "Atlanta, Georgia 30332-0415\n",
    "All Rights Reserved\n",
    "Authors: Frank Dellaert, et al. (see THANKS for the full author list)\n",
    "See LICENSE for the license information\n",
    "Simple robot motion example, with prior and two odometry measurements\n",
    "Author: Frank Dellaert\n",
    "\"\"\"\n",
    "# pylint: disable=invalid-name, E1101\n",
    "\n",
    "from __future__ import print_function\n",
    "\n",
    "import numpy as np\n",
    "\n",
    "import gtsam\n",
    "\n",
    "import matplotlib.pyplot as plt\n",
    "import gtsam.utils.plot as gtsam_plot\n",
    "%matplotlib inline\n",
    "# Create noise models\n",
    "ODOMETRY_NOISE = gtsam.noiseModel.Diagonal.Sigmas(np.array([0.2, 0.2, 0.1]))\n",
    "PRIOR_NOISE = gtsam.noiseModel.Diagonal.Sigmas(np.array([0.3, 0.3, 0.1]))\n",
    "\n",
    "# Create an empty nonlinear factor graph\n",
    "graph = gtsam.NonlinearFactorGraph()\n",
    "\n",
    "# Add a prior on the first pose, setting it to the origin\n",
    "# A prior factor consists of a mean and a noise model (covariance matrix)\n",
    "priorMean = gtsam.Pose2(0.0, 0.0, 0.0)  # prior at origin\n",
    "graph.add(gtsam.PriorFactorPose2(1, priorMean, PRIOR_NOISE))\n",
    "\n",
    "# Add odometry factors\n",
    "odometry = gtsam.Pose2(2.0, 0.0, 0.0)\n",
    "# For simplicity, we will use the same noise model for each odometry factor\n",
    "# Create odometry (Between) factors between consecutive poses\n",
    "graph.add(gtsam.BetweenFactorPose2(1, 2, odometry, ODOMETRY_NOISE))\n",
    "graph.add(gtsam.BetweenFactorPose2(2, 3, odometry, ODOMETRY_NOISE))\n",
    "graph.add(gtsam.BetweenFactorPose2(3, 4, odometry, ODOMETRY_NOISE))\n",
    "print(\"\\nFactor Graph:\\n{}\".format(graph))\n",
    "\n",
    "# Create the data structure to hold the initialEstimate estimate to the solution\n",
    "# For illustrative purposes, these have been deliberately set to incorrect values\n",
    "initial = gtsam.Values()\n",
    "initial.insert(1, gtsam.Pose2(0.5, 0.0, 0.2))\n",
    "initial.insert(2, gtsam.Pose2(2.3, 0.1, -0.2))\n",
    "initial.insert(3, gtsam.Pose2(4.1, 0.1, 0.1))\n",
    "initial.insert(4, gtsam.Pose2(4.1, 0.1, 0.1))\n",
    "print(\"\\nInitial Estimate:\\n{}\".format(initial))\n",
    "\n",
    "# optimize using Levenberg-Marquardt optimization\n",
    "params = gtsam.LevenbergMarquardtParams()\n",
    "optimizer = gtsam.LevenbergMarquardtOptimizer(graph, initial, params)\n",
    "result = optimizer.optimize()\n",
    "print(\"\\nFinal Result:\\n{}\".format(result))\n",
    "\n",
    "# 5. Calculate and print marginal covariances for all variables\n",
    "marginals = gtsam.Marginals(graph, result)\n",
    "for i in range(1, 5):\n",
    "    print(\"X{} covariance:\\n{}\\n\".format(i, marginals.marginalCovariance(i)))\n",
    "\n",
    "fig = plt.figure(0)\n",
    "for i in range(1, 5):\n",
    "    gtsam_plot.plot_pose2(0, result.atPose2(i), 0.5, marginals.marginalCovariance(i))\n",
    "plt.axis('equal')\n",
    "plt.show()\n"
   ]
  },
  {
   "cell_type": "code",
   "execution_count": 20,
   "metadata": {},
   "outputs": [],
   "source": [
    "plt.show()"
   ]
  },
  {
   "cell_type": "code",
   "execution_count": 31,
   "metadata": {},
   "outputs": [
    {
     "data": {
      "text/plain": [
       "\u001b[0;31mDocstring:\u001b[0m iterate(self: gtsam.gtsam.NonlinearOptimizer) -> gtsam.gtsam.GaussianFactorGraph\n",
       "\u001b[0;31mType:\u001b[0m      method\n"
      ]
     },
     "metadata": {},
     "output_type": "display_data"
    }
   ],
   "source": [
    "?optimizer.iterate"
   ]
  },
  {
   "cell_type": "code",
   "execution_count": 32,
   "metadata": {},
   "outputs": [
    {
     "data": {
      "text/plain": [
       "\u001b[0;31mType:\u001b[0m           NonlinearFactorGraph\n",
       "\u001b[0;31mString form:\u001b[0m   \n",
       "size: 4\n",
       "           \n",
       "           Factor 0: PriorFactor on 1\n",
       "           prior mean: (0, 0, 0)\n",
       "           noise model: diagonal sigmas[0.3; 0 <...> ctor 3: BetweenFactor(3,4)\n",
       "           measured: (2, 0, 0)\n",
       "           noise model: diagonal sigmas[0.2; 0.2; 0.1];\n",
       "           \n",
       "           \n",
       "\u001b[0;31mFile:\u001b[0m           ~/anaconda3/envs/slam/lib/python3.7/site-packages/gtsam/gtsam.cpython-37m-x86_64-linux-gnu.so\n",
       "\u001b[0;31mDocstring:\u001b[0m      <no docstring>\n",
       "\u001b[0;31mInit docstring:\u001b[0m\n",
       "__init__(*args, **kwargs)\n",
       "Overloaded function.\n",
       "\n",
       "1. __init__(self: gtsam.gtsam.NonlinearFactorGraph) -> None\n",
       "\n",
       "2. __init__(self: gtsam.gtsam.NonlinearFactorGraph, graph: gtsam.gtsam.NonlinearFactorGraph) -> None\n"
      ]
     },
     "metadata": {},
     "output_type": "display_data"
    }
   ],
   "source": [
    "?graph"
   ]
  },
  {
   "cell_type": "code",
   "execution_count": 40,
   "metadata": {},
   "outputs": [],
   "source": [
    "a = np.array([1,2,3,4,5])"
   ]
  },
  {
   "cell_type": "code",
   "execution_count": 41,
   "metadata": {},
   "outputs": [],
   "source": [
    "def fun(a,b,c):\n",
    "    print(a,b,c)"
   ]
  },
  {
   "cell_type": "code",
   "execution_count": 42,
   "metadata": {},
   "outputs": [
    {
     "name": "stdout",
     "output_type": "stream",
     "text": [
      "1 2 3\n"
     ]
    }
   ],
   "source": [
    "fun(*a[:3])"
   ]
  },
  {
   "cell_type": "code",
   "execution_count": null,
   "metadata": {},
   "outputs": [],
   "source": []
  },
  {
   "cell_type": "code",
   "execution_count": 44,
   "metadata": {},
   "outputs": [],
   "source": [
    "b = [*a[:3],*a[3:]]"
   ]
  },
  {
   "cell_type": "code",
   "execution_count": 52,
   "metadata": {},
   "outputs": [],
   "source": [
    "isam=gtsam.ISAM2(gtsam.ISAM2Params())\n",
    "isam.update(graph, initial)\n",
    "est=isam.calculateEstimate()"
   ]
  },
  {
   "cell_type": "code",
   "execution_count": 75,
   "metadata": {},
   "outputs": [],
   "source": [
    "pose2=gtsam.Pose2(1,3,1.57)"
   ]
  },
  {
   "cell_type": "code",
   "execution_count": 78,
   "metadata": {},
   "outputs": [],
   "source": [
    "delta=gtsam.Pose2(2,1,0)"
   ]
  },
  {
   "cell_type": "code",
   "execution_count": 79,
   "metadata": {},
   "outputs": [
    {
     "data": {
      "text/plain": [
       "(0.00159297049, 5.00079569, 1.57)"
      ]
     },
     "execution_count": 79,
     "metadata": {},
     "output_type": "execute_result"
    }
   ],
   "source": [
    "pose2.compose(delta)"
   ]
  },
  {
   "cell_type": "code",
   "execution_count": null,
   "metadata": {},
   "outputs": [],
   "source": []
  }
 ],
 "metadata": {
  "kernelspec": {
   "display_name": "Python 3",
   "language": "python",
   "name": "python3"
  },
  "language_info": {
   "codemirror_mode": {
    "name": "ipython",
    "version": 3
   },
   "file_extension": ".py",
   "mimetype": "text/x-python",
   "name": "python",
   "nbconvert_exporter": "python",
   "pygments_lexer": "ipython3",
   "version": "3.7.9"
  }
 },
 "nbformat": 4,
 "nbformat_minor": 4
}
